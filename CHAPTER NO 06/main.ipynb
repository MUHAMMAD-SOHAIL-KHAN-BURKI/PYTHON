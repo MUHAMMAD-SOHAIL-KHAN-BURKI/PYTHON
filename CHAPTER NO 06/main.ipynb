{
 "cells": [
  {
   "cell_type": "markdown",
   "source": [
    "# Dictionaries"
   ],
   "metadata": {
    "collapsed": false
   }
  },
  {
   "cell_type": "markdown",
   "source": [
    "## Creating Dictionaries"
   ],
   "metadata": {
    "collapsed": false
   }
  },
  {
   "cell_type": "code",
   "execution_count": 3,
   "metadata": {
    "collapsed": true
   },
   "outputs": [
    {
     "data": {
      "text/plain": "{'first_name': 'Muhammad',\n 'last_name': 'Sohail',\n 'email': 'cleverkhan77@gmail.com'}"
     },
     "execution_count": 3,
     "metadata": {},
     "output_type": "execute_result"
    }
   ],
   "source": [
    "sample_dict = {\n",
    "    'first_name': 'Muhammad',\n",
    "    'last_name': 'Sohail',\n",
    "    'email': 'cleverkhan77@gmail.com',\n",
    "}\n",
    "sample_dict\n"
   ]
  },
  {
   "cell_type": "code",
   "execution_count": 4,
   "outputs": [
    {
     "data": {
      "text/plain": "{'one': 1, 'two': 2, 'three': 3}"
     },
     "execution_count": 4,
     "metadata": {},
     "output_type": "execute_result"
    }
   ],
   "source": [
    "numbers = dict(one=1, two=2, three=3)\n",
    "numbers\n"
   ],
   "metadata": {
    "collapsed": false
   }
  },
  {
   "cell_type": "code",
   "execution_count": 5,
   "outputs": [
    {
     "data": {
      "text/plain": "[('first_name', 'Muhammad'),\n ('last_name', 'Sohail'),\n ('email', 'cleverkhan77@gmail.com')]"
     },
     "execution_count": 5,
     "metadata": {},
     "output_type": "execute_result"
    }
   ],
   "source": [
    "info_list = [('first_name', 'Muhammad'), ('last_name', 'Sohail'), ('email', 'cleverkhan77@gmail.com')]\n",
    "info_list\n"
   ],
   "metadata": {
    "collapsed": false
   }
  },
  {
   "cell_type": "code",
   "execution_count": 6,
   "outputs": [
    {
     "data": {
      "text/plain": "{'first_name': 'Muhammad',\n 'last_name': 'Sohail',\n 'email': 'cleverkhan77@gmail.com'}"
     },
     "execution_count": 6,
     "metadata": {},
     "output_type": "execute_result"
    }
   ],
   "source": [
    "info_dict = dict(info_list)\n",
    "info_dict\n"
   ],
   "metadata": {
    "collapsed": false
   }
  },
  {
   "cell_type": "markdown",
   "source": [
    "## Accessing Dictionaries"
   ],
   "metadata": {
    "collapsed": false
   }
  },
  {
   "cell_type": "code",
   "execution_count": 7,
   "outputs": [
    {
     "data": {
      "text/plain": "'Muhammad'"
     },
     "execution_count": 7,
     "metadata": {},
     "output_type": "execute_result"
    }
   ],
   "source": [
    "sample_dict = {\n",
    "    'first_name': 'Muhammad',\n",
    "    'last_name': 'Sohail',\n",
    "    'email': 'cleverkhan77@gmail.com'\n",
    "}\n",
    "sample_dict['first_name']\n"
   ],
   "metadata": {
    "collapsed": false
   }
  },
  {
   "cell_type": "markdown",
   "source": [
    "## Dictionaries Method"
   ],
   "metadata": {
    "collapsed": false
   }
  },
  {
   "cell_type": "code",
   "execution_count": 8,
   "outputs": [
    {
     "data": {
      "text/plain": "{'name': 'Muhammad Sohail', 'lang': 'Python', 'exp': 'a year'}"
     },
     "execution_count": 8,
     "metadata": {},
     "output_type": "execute_result"
    }
   ],
   "source": [
    "sample_dict = {\n",
    "    'name' : \"Muhammad Sohail\",\n",
    "    'lang': 'Python',\n",
    "    'exp' : 'a year',\n",
    "}\n",
    "sample_dict\n"
   ],
   "metadata": {
    "collapsed": false
   }
  },
  {
   "cell_type": "code",
   "execution_count": 10,
   "outputs": [
    {
     "data": {
      "text/plain": "{}"
     },
     "execution_count": 10,
     "metadata": {},
     "output_type": "execute_result"
    }
   ],
   "source": [
    "sample_dict.clear()\n",
    "sample_dict"
   ],
   "metadata": {
    "collapsed": false
   }
  },
  {
   "cell_type": "code",
   "execution_count": 11,
   "outputs": [
    {
     "data": {
      "text/plain": "{'name': 'Muhammad Sohail', 'lang': 'Python', 'exp': 'a year'}"
     },
     "execution_count": 11,
     "metadata": {},
     "output_type": "execute_result"
    }
   ],
   "source": [
    "sample_dict = {\n",
    "    'name' : \"Muhammad Sohail\",\n",
    "    'lang': 'Python',\n",
    "    'exp' : 'a year',\n",
    "}\n",
    "copied_dict = sample_dict.copy()\n",
    "copied_dict\n"
   ],
   "metadata": {
    "collapsed": false
   }
  },
  {
   "cell_type": "code",
   "execution_count": 12,
   "outputs": [
    {
     "data": {
      "text/plain": "dict_items([('name', 'Muhammad Sohail'), ('lang', 'Python'), ('exp', 'a year')])"
     },
     "execution_count": 12,
     "metadata": {},
     "output_type": "execute_result"
    }
   ],
   "source": [
    "sample_dict = {\n",
    "    'name' : \"Muhammad Sohail\",\n",
    "    'lang': 'Python',\n",
    "    'exp' : 'a year',\n",
    "}\n",
    "sample_dict.items()\n"
   ],
   "metadata": {
    "collapsed": false
   }
  },
  {
   "cell_type": "code",
   "execution_count": 13,
   "outputs": [
    {
     "data": {
      "text/plain": "dict_keys(['name', 'lang', 'exp'])"
     },
     "execution_count": 13,
     "metadata": {},
     "output_type": "execute_result"
    }
   ],
   "source": [
    "sample_dict = {\n",
    "    'name' : \"Muhammad Sohail\",\n",
    "    'lang': 'Python',\n",
    "    'exp' : 'a year',\n",
    "}\n",
    "sample_dict.keys()\n"
   ],
   "metadata": {
    "collapsed": false
   }
  },
  {
   "cell_type": "code",
   "execution_count": 14,
   "outputs": [
    {
     "data": {
      "text/plain": "dict_values(['Muhammad Sohail', 'Python', 'a year'])"
     },
     "execution_count": 14,
     "metadata": {},
     "output_type": "execute_result"
    }
   ],
   "source": [
    "sample_dict = {\n",
    "    'name' : \"Muhammad Sohail\",\n",
    "    'lang': 'Python',\n",
    "    'exp' : 'a year',\n",
    "}\n",
    "sample_dict.values()\n"
   ],
   "metadata": {
    "collapsed": false
   }
  },
  {
   "cell_type": "code",
   "execution_count": 15,
   "outputs": [
    {
     "data": {
      "text/plain": "{'lang': 'Python', 'exp': 'a year'}"
     },
     "execution_count": 15,
     "metadata": {},
     "output_type": "execute_result"
    }
   ],
   "source": [
    "sample_dict = {\n",
    "    'name' : \"Muhammad Sohail\",\n",
    "    'lang': 'Python',\n",
    "    'exp' : 'a year',\n",
    "}\n",
    "sample_dict.pop('name')\n",
    "sample_dict\n"
   ],
   "metadata": {
    "collapsed": false
   }
  },
  {
   "cell_type": "code",
   "execution_count": 16,
   "outputs": [
    {
     "data": {
      "text/plain": "{'name': 'Muhammad Sohail', 'lang': 'Python'}"
     },
     "execution_count": 16,
     "metadata": {},
     "output_type": "execute_result"
    }
   ],
   "source": [
    "sample_dict = {\n",
    "    'name' : \"Muhammad Sohail\",\n",
    "    'lang': 'Python',\n",
    "    'exp' : 'a year',\n",
    "}\n",
    "sample_dict.popitem()\n",
    "sample_dict\n"
   ],
   "metadata": {
    "collapsed": false
   }
  },
  {
   "cell_type": "code",
   "execution_count": 17,
   "outputs": [
    {
     "data": {
      "text/plain": "{'name': 'Muhammad Sohail',\n 'lang': 'Python',\n 'exp': 'a year',\n 'new_dict': 'updated'}"
     },
     "execution_count": 17,
     "metadata": {},
     "output_type": "execute_result"
    }
   ],
   "source": [
    "sample_dict = {\n",
    "    'name' : \"Muhammad Sohail\",\n",
    "    'lang': 'Python',\n",
    "    'exp' : 'a year',\n",
    "}\n",
    "sample_dict.update([('new_dict', 'updated')])\n",
    "sample_dict\n"
   ],
   "metadata": {
    "collapsed": false
   }
  },
  {
   "cell_type": "markdown",
   "source": [
    "## Modifying Your Dict"
   ],
   "metadata": {
    "collapsed": false
   }
  },
  {
   "cell_type": "code",
   "execution_count": 18,
   "outputs": [
    {
     "data": {
      "text/plain": "{'name': 'Muhammad Sohail',\n 'lang': 'Python',\n 'exp': 'a year',\n 'address': 'Sohrab Goth  Karachi Pakistan'}"
     },
     "execution_count": 18,
     "metadata": {},
     "output_type": "execute_result"
    }
   ],
   "source": [
    "sample_dict = {\n",
    "    'name' : \"Muhammad Sohail\",\n",
    "    'lang': 'Python',\n",
    "    'exp' : 'a year',\n",
    "}\n",
    "sample_dict['address'] = 'Sohrab Goth  Karachi Pakistan'\n",
    "sample_dict\n"
   ],
   "metadata": {
    "collapsed": false
   }
  },
  {
   "cell_type": "markdown",
   "source": [
    "## Deleting Item from dict"
   ],
   "metadata": {
    "collapsed": false
   }
  },
  {
   "cell_type": "code",
   "execution_count": 20,
   "outputs": [
    {
     "data": {
      "text/plain": "{'name': 'Muhammad Sohail', 'lang': 'Python'}"
     },
     "execution_count": 20,
     "metadata": {},
     "output_type": "execute_result"
    }
   ],
   "source": [
    "sample_dict = {\n",
    "    'name' : \"Muhammad Sohail\",\n",
    "    'lang': 'Python',\n",
    "    'exp' : 'a year',\n",
    "}\n",
    "del sample_dict['exp']\n",
    "sample_dict\n"
   ],
   "metadata": {
    "collapsed": false
   }
  },
  {
   "cell_type": "code",
   "execution_count": 21,
   "outputs": [
    {
     "data": {
      "text/plain": "{'name': 'Muhammad Sohail', 'lang': 'Python'}"
     },
     "execution_count": 21,
     "metadata": {},
     "output_type": "execute_result"
    }
   ],
   "source": [
    "sample_dict = {\n",
    "    'name' : \"Muhammad Sohail\",\n",
    "    'lang': 'Python',\n",
    "    'exp' : 'a year',\n",
    "}\n",
    "sample_dict.pop('exp')\n",
    "sample_dict\n"
   ],
   "metadata": {
    "collapsed": false
   }
  }
 ],
 "metadata": {
  "kernelspec": {
   "display_name": "Python 3",
   "language": "python",
   "name": "python3"
  },
  "language_info": {
   "codemirror_mode": {
    "name": "ipython",
    "version": 2
   },
   "file_extension": ".py",
   "mimetype": "text/x-python",
   "name": "python",
   "nbconvert_exporter": "python",
   "pygments_lexer": "ipython2",
   "version": "2.7.6"
  }
 },
 "nbformat": 4,
 "nbformat_minor": 0
}
